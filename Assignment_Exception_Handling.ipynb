{
 "cells": [
  {
   "cell_type": "markdown",
   "metadata": {},
   "source": [
    "### 1. Write a function to compute 5/0 and use try/except to catch the exceptions."
   ]
  },
  {
   "cell_type": "code",
   "execution_count": 1,
   "metadata": {},
   "outputs": [],
   "source": [
    "def compute(a, b):\n",
    "    \n",
    "    try:\n",
    "        val = a/b\n",
    "        \n",
    "    except ZeroDivisionError:\n",
    "        print(\"Error - Attempt to divide by Zero\\n\")\n",
    "        \n",
    "    except Exception as e:\n",
    "        print(\"Error - \" + str(e))\n",
    "    \n",
    "    else: \n",
    "        print(\"{0}/{1} = {2}\".format(a, b, val))\n",
    "        \n",
    "    finally:\n",
    "        print(\"Finally -  always gets executed\\n\")\n",
    "        \n",
    "    \n",
    "    print(\"Exiting function --- \")"
   ]
  },
  {
   "cell_type": "code",
   "execution_count": 2,
   "metadata": {},
   "outputs": [
    {
     "name": "stdout",
     "output_type": "stream",
     "text": [
      "Error - Attempt to divide by Zero\n",
      "\n",
      "Finally -  always gets executed\n",
      "\n",
      "Exiting function --- \n"
     ]
    }
   ],
   "source": [
    "compute(5,0)"
   ]
  },
  {
   "cell_type": "code",
   "execution_count": 3,
   "metadata": {},
   "outputs": [
    {
     "name": "stdout",
     "output_type": "stream",
     "text": [
      "5/2 = 2.5\n",
      "Finally -  always gets executed\n",
      "\n",
      "Exiting function --- \n"
     ]
    }
   ],
   "source": [
    "compute(5,2)"
   ]
  },
  {
   "cell_type": "code",
   "execution_count": 4,
   "metadata": {},
   "outputs": [
    {
     "name": "stdout",
     "output_type": "stream",
     "text": [
      "Error - unsupported operand type(s) for /: 'int' and 'str'\n",
      "Finally -  always gets executed\n",
      "\n",
      "Exiting function --- \n"
     ]
    }
   ],
   "source": [
    "compute(5,'c')"
   ]
  },
  {
   "cell_type": "code",
   "execution_count": 5,
   "metadata": {},
   "outputs": [
    {
     "name": "stdout",
     "output_type": "stream",
     "text": [
      "name 'c' is not defined\n"
     ]
    }
   ],
   "source": [
    "try:\n",
    "    compute(5,c)\n",
    "except Exception as e:\n",
    "    print(str(e))"
   ]
  },
  {
   "cell_type": "code",
   "execution_count": null,
   "metadata": {},
   "outputs": [],
   "source": []
  },
  {
   "cell_type": "markdown",
   "metadata": {},
   "source": [
    "### 2. Implement a Python program to generate all sentences where subject is in [\"Americans\", \"Indians\"] and verb is in [\"Play\", \"watch\"] and the object is in [\"Baseball\",\"cricket\"].\n",
    "\n",
    "### Hint: Subject,Verb and Object should be declared in the program as shown below.\n",
    "subjects=[\"Americans \",\"Indians\"]\n",
    "verbs=[\"play\",\"watch\"]\n",
    "objects=[\"Baseball\",\"Cricket\"]\n",
    "\n",
    "### Output should come as below:\n",
    "- Americans play Baseball.\n",
    "- Americans play Cricket.\n",
    "- Americans watch Baseball.\n",
    "- Americans watch Cricket.\n",
    "- Indians play Baseball.\n",
    "- Indians play Cricket.\n",
    "- Indians watch Baseball.\n",
    "- Indians watch Cricket.\n",
    "\n"
   ]
  },
  {
   "cell_type": "code",
   "execution_count": 6,
   "metadata": {},
   "outputs": [],
   "source": [
    "def generate_sentences(subject_lst, verb_lst, object_lst):\n",
    "    for sub in subject_lst:\n",
    "        for verb in verb_lst:\n",
    "            for obj in object_lst:\n",
    "                print(sub, verb, obj)"
   ]
  },
  {
   "cell_type": "code",
   "execution_count": 7,
   "metadata": {},
   "outputs": [
    {
     "name": "stdout",
     "output_type": "stream",
     "text": [
      "Americans play Baseball\n",
      "Americans play Cricket\n",
      "Americans watch Baseball\n",
      "Americans watch Cricket\n",
      "Indians play Baseball\n",
      "Indians play Cricket\n",
      "Indians watch Baseball\n",
      "Indians watch Cricket\n"
     ]
    }
   ],
   "source": [
    "subjects=[\"Americans\",\"Indians\"] \n",
    "verbs=[\"play\",\"watch\"] \n",
    "objects=[\"Baseball\",\"Cricket\"]\n",
    "\n",
    "generate_sentences(subjects, verbs, objects)"
   ]
  },
  {
   "cell_type": "code",
   "execution_count": null,
   "metadata": {},
   "outputs": [],
   "source": []
  }
 ],
 "metadata": {
  "kernelspec": {
   "display_name": "Python 3",
   "language": "python",
   "name": "python3"
  },
  "language_info": {
   "codemirror_mode": {
    "name": "ipython",
    "version": 3
   },
   "file_extension": ".py",
   "mimetype": "text/x-python",
   "name": "python",
   "nbconvert_exporter": "python",
   "pygments_lexer": "ipython3",
   "version": "3.8.3"
  }
 },
 "nbformat": 4,
 "nbformat_minor": 4
}
