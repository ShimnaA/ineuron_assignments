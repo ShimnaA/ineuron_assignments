{
 "cells": [
  {
   "cell_type": "code",
   "execution_count": 2,
   "id": "54197f31",
   "metadata": {},
   "outputs": [
    {
     "name": "stdout",
     "output_type": "stream",
     "text": [
      "Enter the word and see if it is palindrome -1\n",
      "This word is not palindrome\n"
     ]
    }
   ],
   "source": [
    "#palindrome checker\n",
    "mes=input(\"Enter the word and see if it is palindrome \")\n",
    "if mes==mes[::-1]:\n",
    "    print(\"This word is palindrome\")\n",
    "else:\n",
    "    print(\"This word is not palindrome\")"
   ]
  },
  {
   "cell_type": "code",
   "execution_count": 5,
   "id": "f990a6b6",
   "metadata": {},
   "outputs": [
    {
     "name": "stdout",
     "output_type": "stream",
     "text": [
      "[0, 1, 8, 27, 64, 125, 216, 343, 512, 729, 1000]\n"
     ]
    }
   ],
   "source": [
    "#cubed sequence\n",
    "Cubes=[]\n",
    "for i in range((11)):\n",
    "    Cubes.append(i**3)\n",
    "print(Cubes)\n"
   ]
  },
  {
   "cell_type": "code",
   "execution_count": 7,
   "id": "fcaae1b4",
   "metadata": {},
   "outputs": [
    {
     "name": "stdout",
     "output_type": "stream",
     "text": [
      "Enter the number you want to generate a multiplication table for, then hit the `enter` key: 5\n",
      "5  *  1  =  5\n",
      "5  *  2  =  10\n",
      "5  *  3  =  15\n",
      "5  *  4  =  20\n",
      "5  *  5  =  25\n",
      "5  *  6  =  30\n",
      "5  *  7  =  35\n",
      "5  *  8  =  40\n",
      "5  *  9  =  45\n",
      "5  *  10  =  50\n",
      "5  *  11  =  55\n",
      "5  *  12  =  60\n"
     ]
    }
   ],
   "source": [
    "#multiplication table\n",
    "ourNum = int(input(\"Enter the number you want to generate a multiplication table for, then hit the `enter` key: \"))\n",
    "ourRange = range(1,13)\n",
    "for x in ourRange:\n",
    "    result = ourNum * x\n",
    "    print(ourNum,\" * \",x,\" = \",result)\n"
   ]
  },
  {
   "cell_type": "code",
   "execution_count": 8,
   "id": "a5f8539f",
   "metadata": {},
   "outputs": [
    {
     "name": "stdout",
     "output_type": "stream",
     "text": [
      "Enter first number:5\n",
      "Enter second number:6\n",
      "Enter third number8\n",
      "11\n"
     ]
    }
   ],
   "source": [
    "#sum of three random numbers\n",
    "a = int(input(\"Enter first number:\"))\n",
    "b = int(input(\"Enter second number:\"))\n",
    "c = int(input(\"Enter third number\"))\n",
    "sum = a+b\n",
    "print(sum)"
   ]
  },
  {
   "cell_type": "code",
   "execution_count": null,
   "id": "98d6db19",
   "metadata": {},
   "outputs": [],
   "source": []
  }
 ],
 "metadata": {
  "kernelspec": {
   "display_name": "Python 3 (ipykernel)",
   "language": "python",
   "name": "python3"
  },
  "language_info": {
   "codemirror_mode": {
    "name": "ipython",
    "version": 3
   },
   "file_extension": ".py",
   "mimetype": "text/x-python",
   "name": "python",
   "nbconvert_exporter": "python",
   "pygments_lexer": "ipython3",
   "version": "3.9.12"
  }
 },
 "nbformat": 4,
 "nbformat_minor": 5
}
